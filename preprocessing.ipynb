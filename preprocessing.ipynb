{
 "cells": [
  {
   "cell_type": "code",
   "execution_count": 23,
   "metadata": {},
   "outputs": [],
   "source": [
    "from pyspark.sql import SparkSession\n",
    "from pyspark.sql.functions import col, to_date\n",
    "import pandas as pd"
   ]
  },
  {
   "cell_type": "code",
   "execution_count": 2,
   "metadata": {},
   "outputs": [
    {
     "name": "stderr",
     "output_type": "stream",
     "text": [
      "24/11/14 10:41:10 WARN Utils: Your hostname, Abhays-MacBook-Air-3.local resolves to a loopback address: 127.0.0.1; using 192.168.0.36 instead (on interface en0)\n",
      "24/11/14 10:41:10 WARN Utils: Set SPARK_LOCAL_IP if you need to bind to another address\n",
      "Setting default log level to \"WARN\".\n",
      "To adjust logging level use sc.setLogLevel(newLevel). For SparkR, use setLogLevel(newLevel).\n",
      "24/11/14 10:41:12 WARN NativeCodeLoader: Unable to load native-hadoop library for your platform... using builtin-java classes where applicable\n"
     ]
    }
   ],
   "source": [
    "spark = SparkSession.builder.master(\"local[5]\").appName(\"Processing\").getOrCreate()"
   ]
  },
  {
   "cell_type": "code",
   "execution_count": 3,
   "metadata": {},
   "outputs": [
    {
     "name": "stderr",
     "output_type": "stream",
     "text": [
      "                                                                                \r"
     ]
    }
   ],
   "source": [
    "data = spark.read.csv(path=\"bikeshare data/daily_rent_detail.csv\", header=True, inferSchema=True)"
   ]
  },
  {
   "cell_type": "code",
   "execution_count": 4,
   "metadata": {},
   "outputs": [],
   "source": [
    "futuredata = data.filter(col(\"started_at\") > \"2024-01-01\") \\\n",
    "    .orderBy(col(\"started_at\").asc())"
   ]
  },
  {
   "cell_type": "code",
   "execution_count": 16,
   "metadata": {},
   "outputs": [],
   "source": [
    "weather = spark.read.csv(path=\"bikeshare data/weather.csv\", header=True, inferSchema=True)"
   ]
  },
  {
   "cell_type": "code",
   "execution_count": 17,
   "metadata": {},
   "outputs": [],
   "source": [
    "weather = weather.select(\"datetime\", \"tempmax\", \"tempmin\", \"humidity\", \"precip\", \"snow\", \"windspeed\", \"windgust\", \"conditions\")"
   ]
  },
  {
   "cell_type": "code",
   "execution_count": 18,
   "metadata": {},
   "outputs": [],
   "source": [
    "futureweatherdata = weather.filter(col(\"datetime\") > \"2023-12-31\")"
   ]
  },
  {
   "cell_type": "code",
   "execution_count": 8,
   "metadata": {},
   "outputs": [
    {
     "name": "stderr",
     "output_type": "stream",
     "text": [
      "                                                                                \r"
     ]
    }
   ],
   "source": [
    "futuredata.coalesce(1).write.csv(\"futuredata\", header=True)"
   ]
  },
  {
   "cell_type": "code",
   "execution_count": 9,
   "metadata": {},
   "outputs": [
    {
     "name": "stderr",
     "output_type": "stream",
     "text": [
      "                                                                                \r"
     ]
    }
   ],
   "source": [
    "futureweatherdata.coalesce(1).write.csv(\"futureweatherdata\", header=True)"
   ]
  },
  {
   "cell_type": "code",
   "execution_count": 19,
   "metadata": {},
   "outputs": [],
   "source": [
    "pastweatherdata = weather.filter(col(\"datetime\") < \"2024-01-01\") \\\n",
    "                  .filter(col(\"datetime\") > \"2022-12-31\")"
   ]
  },
  {
   "cell_type": "code",
   "execution_count": 24,
   "metadata": {},
   "outputs": [],
   "source": [
    "pastdata = data.filter(col(\"started_at\") < \"2024-01-01\") \\\n",
    "            .filter(col(\"started_at\") > \"2022-12-31\") \\\n",
    "            .orderBy(col(\"started_at\").asc()) \\\n",
    "            .dropna(subset=[\"start_station_id\", \"end_station_id\"]) \\\n",
    "            .withColumn(\"date\", to_date(\"started_at\"))"
   ]
  },
  {
   "cell_type": "code",
   "execution_count": 33,
   "metadata": {},
   "outputs": [],
   "source": [
    "pastdata = pastdata.groupBy(\"date\").count()"
   ]
  },
  {
   "cell_type": "code",
   "execution_count": 34,
   "metadata": {},
   "outputs": [],
   "source": [
    "joined = pastdata.join(pastweatherdata, pastdata.date==pastweatherdata.datetime, \"inner\")"
   ]
  },
  {
   "cell_type": "code",
   "execution_count": 36,
   "metadata": {},
   "outputs": [
    {
     "name": "stderr",
     "output_type": "stream",
     "text": [
      "                                                                                \r"
     ]
    },
    {
     "data": {
      "text/plain": [
       "[Row(date=datetime.date(2023, 1, 1), count=6310, datetime=datetime.date(2023, 1, 1), tempmax=16.3, tempmin=6.4, humidity=82.2, precip=0.101, snow=0.0, windspeed=14.2, windgust=22.3, conditions='Rain, Partially cloudy'),\n",
       " Row(date=datetime.date(2023, 1, 2), count=6795, datetime=datetime.date(2023, 1, 2), tempmax=17.2, tempmin=4.4, humidity=79.3, precip=0.0, snow=0.0, windspeed=14.7, windgust=16.6, conditions='Partially cloudy'),\n",
       " Row(date=datetime.date(2023, 1, 3), count=7077, datetime=datetime.date(2023, 1, 3), tempmax=20.0, tempmin=10.1, humidity=78.5, precip=0.0, snow=0.0, windspeed=28.5, windgust=47.1, conditions='Overcast'),\n",
       " Row(date=datetime.date(2023, 1, 4), count=7242, datetime=datetime.date(2023, 1, 4), tempmax=18.3, tempmin=11.9, humidity=85.4, precip=0.0, snow=0.0, windspeed=22.8, windgust=50.0, conditions='Partially cloudy'),\n",
       " Row(date=datetime.date(2023, 1, 5), count=7892, datetime=datetime.date(2023, 1, 5), tempmax=17.8, tempmin=9.8, humidity=70.4, precip=0.0, snow=0.0, windspeed=20.2, windgust=22.3, conditions='Partially cloudy')]"
      ]
     },
     "execution_count": 36,
     "metadata": {},
     "output_type": "execute_result"
    }
   ],
   "source": [
    "joined.orderBy(col(\"date\").asc()).take(5)"
   ]
  },
  {
   "cell_type": "code",
   "execution_count": 37,
   "metadata": {},
   "outputs": [
    {
     "name": "stderr",
     "output_type": "stream",
     "text": [
      "                                                                                \r"
     ]
    }
   ],
   "source": [
    "joined.coalesce(1).write.csv(\"pastdata\", header=True)"
   ]
  },
  {
   "cell_type": "code",
   "execution_count": null,
   "metadata": {},
   "outputs": [],
   "source": []
  }
 ],
 "metadata": {
  "kernelspec": {
   "display_name": ".venv",
   "language": "python",
   "name": "python3"
  },
  "language_info": {
   "codemirror_mode": {
    "name": "ipython",
    "version": 3
   },
   "file_extension": ".py",
   "mimetype": "text/x-python",
   "name": "python",
   "nbconvert_exporter": "python",
   "pygments_lexer": "ipython3",
   "version": "3.11.1"
  }
 },
 "nbformat": 4,
 "nbformat_minor": 2
}
